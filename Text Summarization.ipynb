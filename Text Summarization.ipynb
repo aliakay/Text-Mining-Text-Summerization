{
 "cells": [
  {
   "cell_type": "code",
   "execution_count": 16,
   "metadata": {},
   "outputs": [],
   "source": [
    "import bs4 as bs  \n",
    "import urllib.request  \n",
    "import re\n",
    "\n",
    "scraped_data = urllib.request.urlopen('https://www.history.com/news/who-was-ataturk')  \n",
    "article = scraped_data.read()\n",
    "\n",
    "parsed_article = bs.BeautifulSoup(article,'lxml')\n",
    "\n",
    "paragraphs = parsed_article.find_all('p')\n",
    "\n",
    "article_text = \"\"\n",
    "\n",
    "for p in paragraphs:  \n",
    "    article_text += p.text"
   ]
  },
  {
   "cell_type": "markdown",
   "metadata": {},
   "source": [
    "Preprocessing"
   ]
  },
  {
   "cell_type": "code",
   "execution_count": 17,
   "metadata": {},
   "outputs": [],
   "source": [
    "# Removing Square Brackets and Extra Spaces\n",
    "article_text = re.sub(r'\\[[0-9]*\\]', ' ', article_text)  \n",
    "article_text = re.sub(r'\\s+', ' ', article_text) \n",
    "# Removing special characters and digits\n",
    "formatted_article_text = re.sub('[^a-zA-Z]', ' ', article_text )  \n",
    "formatted_article_text = re.sub(r'\\s+', ' ', formatted_article_text)"
   ]
  },
  {
   "cell_type": "code",
   "execution_count": 18,
   "metadata": {},
   "outputs": [
    {
     "data": {
      "text/plain": [
       "'One of the most iconic figures of the early th century Mustafa Kemal Ataturk is remembered as the leader who emerged from the ashes of the Ottoman Empire to establish Turkey as a sovereign republic As president his contributions to the development of a modern secular Turkey were so influential that even today insulting his memory is a crime punishable by jail time Born Mustafa on March Turkey s most famous son came of age in the old Ottoman Empire which had spent over years in control of large swaths of the Mediterranean Basin After attending military school from the age of Ataturk cut his teeth as a soldier in actions against the Italians in Libya from to and later helped lead forces that blocked the Allied capture of Istanbul in the famous Gallipoli Campaign during World War I His first foray into politics came in when he organized a nationalist revolution to drive the occupying Allied powers out of Turkey After scoring decisive victories against the Greeks and Armenians he secured the Treaty of Lausanne in July which recognized Turkey as an independent nation Later that year the national assembly established Turkey as a republic with Ataturk as its first president As head of state Ataturk took a tight hold of Turkey s government and instituted a series of sweeping reforms that sought to establish a more secular modern and European style society He set up state owned factories and rail networks passed laws regarding gender equality and women s suffrage and introduced a program of Westernization that saw Turkey adopt the Gregorian calendar and the Latin alphabet Most controversial were his religious reforms which secularized the government and abolished the centuries old Islamic Caliphate He also closed religious schools and courts ended a ban on alcohol and forbid women workers from wearing headscarves Ataturk would ultimately serve as Turkey s president for years Three years before his death in he was given the honorific surname Ataturk which means Father of the Turks FACT CHECK We strive for accuracy and fairness But if you see something that doesn t look right contact us Twice a week we compile our most fascinating features and deliver them straight to you RELATED CONTENT'"
      ]
     },
     "execution_count": 18,
     "metadata": {},
     "output_type": "execute_result"
    }
   ],
   "source": [
    "formatted_article_text"
   ]
  },
  {
   "cell_type": "markdown",
   "metadata": {},
   "source": [
    "Converting Text To Sentences"
   ]
  },
  {
   "cell_type": "code",
   "execution_count": 19,
   "metadata": {},
   "outputs": [
    {
     "name": "stdout",
     "output_type": "stream",
     "text": [
      "[nltk_data] Downloading package stopwords to\n",
      "[nltk_data]     /Users/aliakay/nltk_data...\n",
      "[nltk_data]   Package stopwords is already up-to-date!\n"
     ]
    }
   ],
   "source": [
    "import nltk\n",
    "nltk.download('stopwords')\n",
    "import heapq\n",
    "\n",
    "sentence_list = nltk.sent_tokenize(article_text)  "
   ]
  },
  {
   "cell_type": "markdown",
   "metadata": {},
   "source": [
    "Find Weighted Frequency of Occurrence"
   ]
  },
  {
   "cell_type": "code",
   "execution_count": 20,
   "metadata": {},
   "outputs": [],
   "source": [
    "stopwords = nltk.corpus.stopwords.words('english')\n",
    "\n",
    "word_frequencies = {}  \n",
    "for word in nltk.word_tokenize(formatted_article_text):  \n",
    "    if word not in stopwords:\n",
    "        if word not in word_frequencies.keys():\n",
    "            word_frequencies[word] = 1\n",
    "        else:\n",
    "            word_frequencies[word] += 1"
   ]
  },
  {
   "cell_type": "code",
   "execution_count": 21,
   "metadata": {},
   "outputs": [],
   "source": [
    "maximum_frequncy = max(word_frequencies.values())\n",
    "\n",
    "for word in word_frequencies.keys():  \n",
    "    word_frequencies[word] = (word_frequencies[word]/maximum_frequncy)"
   ]
  },
  {
   "cell_type": "markdown",
   "metadata": {},
   "source": [
    "Calculating Sentence Scores"
   ]
  },
  {
   "cell_type": "code",
   "execution_count": 22,
   "metadata": {},
   "outputs": [],
   "source": [
    "sentence_scores = {}  \n",
    "for sent in sentence_list:  \n",
    "    for word in nltk.word_tokenize(sent.lower()):\n",
    "        if word in word_frequencies.keys():\n",
    "            if len(sent.split(' ')) < 30:\n",
    "                if sent not in sentence_scores.keys():\n",
    "                    sentence_scores[sent] = word_frequencies[word]\n",
    "                else:\n",
    "                    sentence_scores[sent] += word_frequencies[word]"
   ]
  },
  {
   "cell_type": "markdown",
   "metadata": {},
   "source": [
    "Getting the Summary"
   ]
  },
  {
   "cell_type": "code",
   "execution_count": 23,
   "metadata": {},
   "outputs": [
    {
     "name": "stdout",
     "output_type": "stream",
     "text": [
      "He also closed religious schools and courts, ended a ban on alcohol and forbid women workers from wearing headscarves. But if you see something that doesn't look right, contact us!Twice a week we compile our most fascinating features and deliver them straight to you.RELATED CONTENT His first foray into politics came in 1919, when he organized a nationalist revolution to drive the occupying Allied powers out of Turkey. Three years before his death in 1938, he was given the honorific surname “Ataturk,” which means “Father of the Turks.”FACT CHECK: We strive for accuracy and fairness. Most controversial were his religious reforms, which secularized the government and abolished the centuries-old Islamic Caliphate. Ataturk would ultimately serve as Turkey’s president for 15 years. After scoring decisive victories against the Greeks and Armenians, he secured the Treaty of Lausanne in July 1923, which recognized Turkey as an independent nation.\n"
     ]
    }
   ],
   "source": [
    "import heapq  \n",
    "summary_sentences = heapq.nlargest(7, sentence_scores, key=sentence_scores.get)\n",
    "\n",
    "summary = ' '.join(summary_sentences)  \n",
    "print(summary)  "
   ]
  },
  {
   "cell_type": "code",
   "execution_count": null,
   "metadata": {},
   "outputs": [],
   "source": []
  }
 ],
 "metadata": {
  "kernelspec": {
   "display_name": "Python 3",
   "language": "python",
   "name": "python3"
  },
  "language_info": {
   "codemirror_mode": {
    "name": "ipython",
    "version": 3
   },
   "file_extension": ".py",
   "mimetype": "text/x-python",
   "name": "python",
   "nbconvert_exporter": "python",
   "pygments_lexer": "ipython3",
   "version": "3.7.0"
  }
 },
 "nbformat": 4,
 "nbformat_minor": 2
}
